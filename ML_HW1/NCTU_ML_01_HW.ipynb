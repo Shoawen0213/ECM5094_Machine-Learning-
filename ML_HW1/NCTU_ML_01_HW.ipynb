{
 "cells": [
  {
   "cell_type": "markdown",
   "metadata": {},
   "source": [
    "# 【ML-HW01】"
   ]
  },
  {
   "cell_type": "markdown",
   "metadata": {},
   "source": [
    "#### 〈 Import Library 〉"
   ]
  },
  {
   "cell_type": "code",
   "execution_count": 2,
   "metadata": {},
   "outputs": [],
   "source": [
    "import numpy as np\n",
    "import pandas as pd\n",
    "import tensorflow as tf\n",
    "import matplotlib.pyplot as plt\n",
    "import math\n",
    "from numpy.linalg import inv"
   ]
  },
  {
   "cell_type": "markdown",
   "metadata": {},
   "source": [
    "#### 〈 Function define 〉"
   ]
  },
  {
   "cell_type": "code",
   "execution_count": 3,
   "metadata": {},
   "outputs": [],
   "source": [
    "def loaddata(data_x, data_t):\n",
    "    data_X = np.genfromtxt(data_x, delimiter=',')\n",
    "    data_T = np.genfromtxt(data_t, delimiter=',')\n",
    "    return data_X, data_T\n",
    "\n",
    "def splitdata_M1(data_x, data_t, N, rate):\n",
    "    train_num = round(N * rate)\n",
    "    val_num = round(N * (1-rate))\n",
    "    data_x_t_bias = np.ones((train_num, 1))\n",
    "    data_x_t = np.append(data_x_t_bias, data_x[0:train_num,:], axis=1)\n",
    "    data_x_v_bias = np.ones((val_num, 1))\n",
    "    data_x_v = np.append(data_x_v_bias, data_x[train_num:,:], axis=1)\n",
    "    data_t_t = data_t[0:train_num,:]\n",
    "    data_t_v = data_t[train_num:,:]\n",
    "    #print(data_x_t)\n",
    "    return data_x_t, data_x_v, data_t_t, data_t_v\n",
    "\n",
    "def splitdata_M2(data_x, data_t):\n",
    "    data_x_t = data_x[0:400, :]\n",
    "    data_x_v = data_x[400:, :]\n",
    "    data_t_t = data_t[0:400,:]\n",
    "    data_t_v = data_t[400:,:]\n",
    "    return data_x_t, data_x_v, data_t_t, data_t_v\n",
    "\n",
    "def linear_regression_1d_wml(data_x_t, data_t_t):\n",
    "    x = np.linalg.inv(np.dot(np.transpose(data_x_t), data_x_t))\n",
    "    wml_1d = np.linalg.multi_dot([x, np.transpose(data_x_t), data_t_t])\n",
    "    return wml_1d\n",
    "\n",
    "def linear_regression_post_wml(data_x_t, data_t_t):\n",
    "    lambda_ = 0.01\n",
    "    i = np.identity(data_x_t.shape[1]) * lambda_\n",
    "    x = np.linalg.inv(i + np.dot(np.transpose(data_x_t), data_x_t))\n",
    "    wml_post = np.linalg.multi_dot([x, np.transpose(data_x_t), data_t_t])\n",
    "    return wml_post\n",
    "\n",
    "def linear_regression_2d_wml(data_x_t, data_t_t):\n",
    "    x = np.linalg.inv(np.dot(np.transpose(data_x_t), data_x_t))\n",
    "    wml_1d = np.linalg.multi_dot([x, np.transpose(data_x_t), data_t_t])\n",
    "    return wml_1d\n",
    "\n",
    "def linear_regression_2d_wml_post(data_x_t, data_t_t):\n",
    "    lambda_ = 0.01\n",
    "    i = np.identity(data_x_t.shape[1]) * lambda_\n",
    "    x = np.linalg.inv(i + np.dot(np.transpose(data_x_t), data_x_t))\n",
    "    wml_2d_post = np.linalg.multi_dot([x, np.transpose(data_x_t), data_t_t])\n",
    "    return wml_2d_post\n",
    "\n",
    "def linear_regression_m2d(data_x_t):\n",
    "    result = np.zeros((500,21))\n",
    "    k = 0\n",
    "    for i in range(6):\n",
    "        for j in range(i,6):\n",
    "            result[:,k] = (data_x_t[:, i] * data_x_t[:, j])\n",
    "            k=k + 1\n",
    "    return result \n",
    "\n",
    "def linear_regression_error(data_d, data_e, data_f, N, rate):\n",
    "    train_num = round(N * rate)\n",
    "    val_num = round(N * (1-rate))\n",
    "    y = np.dot(data_d, data_e) - data_f\n",
    "    z = y**2\n",
    "    sum = np.sum(z)\n",
    "    train_error = np.sqrt(sum/train_num)\n",
    "    val_error = np.sqrt(sum/val_num)\n",
    "    return train_error, val_error\n",
    "\n",
    "def mean_std(training_set):\n",
    "    mean = np.mean(training_set, axis=0)\n",
    "    std = np.std(training_set)\n",
    "    return mean, std\n",
    "\n",
    "\n",
    "def normalization(training_set, mean, std):\n",
    "    normalization_result = (training_set - mean) / std\n",
    "    return normalization_result\n",
    "\n",
    "def sigmoid_op(normalization_result):\n",
    "    sigmoid_result = 1 / (1 + np.exp(-normalization_result))\n",
    "    return sigmoid_result\n",
    "\n",
    "#Calculate $\\Phi$ to generate $x^{j}$  ; form y(x, $\\omega$) = $\\omega_{0}$+...+ $\\omega_{1}$ $x^{1}$+...\n",
    "#calculate phi for calculate weight\n",
    "def phi_POLY(train_x):\n",
    "    phi_for_M1 = np.insert(train_x, 0, np.ones(row), axis=1)\n",
    "    \n",
    "    phi_for_M2 = np.insert(train_x, 0, np.ones(row), axis=1)\n",
    "    diff = 0\n",
    "    p = len(train_x[0]) + 1 \n",
    "    for i in range(len(train_x[0])):\n",
    "        for j in range(len(train_x[0])):\n",
    "            if i <= j:\n",
    "                p += 1\n",
    "                phi_for_M2 = np.insert(phi_for_M2, (i*(len(train_x[0])) + j + (len(train_x[0])) + 1 - diff), (train_x[:,i]*train_x[:,j]), axis=1)\n",
    "            else:\n",
    "                diff += 1\n",
    "    diff = 0\n",
    "    return (phi_for_M1, phi_for_M2)\n",
    "\n",
    "def prediction(input_x, LABEL, m, weight):\n",
    "    row = len(input_x)\n",
    "    error_func = np.zeros(row)\n",
    "    error_func += weight[0]\n",
    "    l = len(input_x[0])\n",
    "    p = l + 1\n",
    "    for i in range(l):\n",
    "        m1 = np.multiply(input_x[:, i], weight[i+1])      \n",
    "        error_func += m1\n",
    "    \n",
    "    if m >= 2:\n",
    "        diff = 0\n",
    "        for i in range(l):\n",
    "            for j in range(l):\n",
    "                if i <= j:\n",
    "                    p += 1\n",
    "                    m2 = np.multiply(input_x[:, i], input_x[:, j])\n",
    "                    error_func += np.multiply(m2, weight[i*l + j + l + 1 - diff])\n",
    "                else:\n",
    "                    diff += 1       \n",
    "                    \n",
    "    return math.sqrt(sum((error_func - LABEL)**2)/len(LABEL))"
   ]
  },
  {
   "cell_type": "markdown",
   "metadata": {},
   "source": [
    "#### 〈Data preprocessing〉"
   ]
  },
  {
   "cell_type": "code",
   "execution_count": 4,
   "metadata": {},
   "outputs": [
    {
     "name": "stdout",
     "output_type": "stream",
     "text": [
      "train(500, 8)\n"
     ]
    }
   ],
   "source": [
    "# Load Data\n",
    "dataset_t = pd.read_csv('/home/ShaoWenLC/ML/HW1/data_T.csv')\n",
    "dataset_x = pd.read_csv('/home/ShaoWenLC/ML/HW1/data_X.csv')\n",
    "print(f'train{dataset_x.shape}')\n",
    "# data_X: (500, 8), data_T: (500, 1)\n",
    "orgin_train_x = np.array(dataset_x[['GRE_score', 'TOFEL_score', 'University_rating', 'SOP','LOR ', 'CGPA', 'Research']])\n",
    "orgin_train_t = np.array(dataset_t[['Chance_of_Admit ']])\n",
    "# display(orgin_train_x)\n",
    "num_data = orgin_train_x.shape[0]  #num of data\n",
    "dim = orgin_train_x.shape[1]    #dimension"
   ]
  },
  {
   "cell_type": "markdown",
   "metadata": {},
   "source": [
    "## 【Feature Selection (2-1) 】"
   ]
  },
  {
   "cell_type": "code",
   "execution_count": 206,
   "metadata": {},
   "outputs": [
    {
     "name": "stdout",
     "output_type": "stream",
     "text": [
      "Training data numbers = 400\n",
      "Testing data numbers = 100\n"
     ]
    }
   ],
   "source": [
    "#stack sequences along horizontal direction.\n",
    "#All arrays must have the same shape along all but the second axis.\n",
    "train_data = np.hstack((orgin_train_x, orgin_train_t.reshape(num_data,1)))\n",
    "np.random.shuffle(train_data)\n",
    "train_x = train_data[:, :-1]\n",
    "train_t = train_data[:, -1]\n",
    "#split data\n",
    "# 1:4\n",
    "test_x = train_x[int((-num_data)*2/10):]\n",
    "test_t = train_t[int((-num_data)*2/10):]\n",
    "train_x = train_x[:int(num_data*8/10)]\n",
    "train_t = train_t[:int(num_data*8/10)]\n",
    "num_train_data = train_x.shape[0]  # num of training data\n",
    "print('Training data numbers =', num_train_data)\n",
    "num_test_data = test_x.shape[0]    # num of testing data\n",
    "print('Testing data numbers =', num_test_data)\n",
    "row = len(train_x)"
   ]
  },
  {
   "cell_type": "code",
   "execution_count": 207,
   "metadata": {},
   "outputs": [
    {
     "name": "stdout",
     "output_type": "stream",
     "text": [
      "//===================//\n",
      "//       2-1(a)      //\n",
      "//===================//\n",
      "Weight：\n",
      "〔when M = 1〕：\n",
      " [-1.23971982  0.00167088  0.0030644   0.00699538  0.0014761   0.01524818\n",
      "  0.11780561  0.02552689]\n",
      "〔when M = 2〕：\n",
      " [-7.37797022e+01  2.50595528e-01 -2.24735125e-02 -8.39152684e-01\n",
      " -1.15702146e-01  2.68060278e-02  3.76869319e-01  4.56426380e+02\n",
      "  5.49294698e-05 -1.37359451e-04  3.06619537e-04 -5.40238467e-04\n",
      "  1.49110745e-03 -1.89155007e-03 -8.27660662e-04  1.09462081e-04\n",
      "  1.52627646e-04  2.82600486e-03 -2.16869344e-03 -2.27932421e-03\n",
      "  3.04298847e-03 -8.21361939e-04  2.23149069e-02 -4.47408127e-03\n",
      " -1.51845847e-02  3.17109957e-03 -1.48611369e-02  2.64795234e-03\n",
      " -2.39071245e-03  5.57384039e-04  5.51099404e-03 -2.57794073e-02\n",
      " -6.51575428e-03  3.45245260e-02  1.52985037e-02 -4.56201147e+02]\n",
      "\n",
      "\n",
      "〔Training data result〕:\n",
      "M =  1    RMS =  0.05966376021822569\n",
      "M =  2    RMS =  2.355572200243743\n",
      "〔Testing data result〕:\n",
      "M =  1    RMS =  0.05899539053729578\n",
      "M =  2    RMS =  2.4481968767263704\n",
      "\n",
      "\n"
     ]
    },
    {
     "data": {
      "image/png": "[encoded data removed]",
      "text/plain": [
       "<Figure size 432x288 with 1 Axes>"
      ]
     },
     "metadata": {
      "needs_background": "light"
     },
     "output_type": "display_data"
    }
   ],
   "source": [
    "#======== 2-1.(a) ===========//\n",
    "print (\"//===================//\")\n",
    "print (\"//       2-1(a)      //\")\n",
    "print (\"//===================//\")\n",
    "\n",
    "phi_for_M1, phi_for_M2 = phi_POLY(train_x)\n",
    "\n",
    "w_ML1 = np.dot(np.dot(inv(np.dot(phi_for_M1.T, phi_for_M1)), phi_for_M1.T), train_t)\n",
    "w_ML2 = np.dot(np.dot(inv(np.dot(phi_for_M2.T, phi_for_M2)), phi_for_M2.T), train_t)\n",
    "\n",
    "range_M = [1,2]\n",
    "RMS_train = [prediction(train_x, train_t, 1, w_ML1), prediction(train_x, train_t, 2, w_ML2)]\n",
    "RMS_test  = [prediction(test_x, test_t, 1, w_ML1), prediction(test_x, test_t, 2, w_ML2)]\n",
    "\n",
    "print(\"Weight：\")\n",
    "print(\"〔when M = 1〕：\\n\", w_ML1)\n",
    "print(\"〔when M = 2〕：\\n\", w_ML2)\n",
    "print(\"\\n\")\n",
    "\n",
    "print (\"〔Training data result〕:\")\n",
    "for m,error in zip(range_M, RMS_train):\n",
    "    print (\"M = \", m, \"   RMS = \", error)\n",
    "print (\"〔Testing data result〕:\")\n",
    "for m,error in zip(range_M, RMS_test):\n",
    "    print (\"M = \", m, \"   RMS = \", error)\n",
    "print(\"\\n\")\n",
    "\n",
    "%matplotlib inline\n",
    "plt.figure()\n",
    "plt.xlabel('M')\n",
    "plt.ylabel('RMS')\n",
    "plt.plot(range_M, RMS_train, color='black', marker=\"x\", label='Training')\n",
    "plt.plot(range_M, RMS_test, color='red', marker=\"x\", label='Validation')\n",
    "plt.legend(loc=4)\n",
    "plt.show()"
   ]
  },
  {
   "cell_type": "code",
   "execution_count": 208,
   "metadata": {},
   "outputs": [
    {
     "name": "stdout",
     "output_type": "stream",
     "text": [
      "//===================//\n",
      "//       2-1(b)      //\n",
      "//===================//\n",
      "RMS of training REMOVE sth.\n",
      "[1.181061578254035, 2.1360553662089106, 2202591784.9089675, 0.5218509619496206, 0.6612499210097312, 0.7858752738384913, 0.058321150460022286]\n",
      "The most contributive attribte is: University_rating\n"
     ]
    },
    {
     "data": {
      "image/png": "[encoded data removed]",
      "text/plain": [
       "<Figure size 432x288 with 1 Axes>"
      ]
     },
     "metadata": {
      "needs_background": "light"
     },
     "output_type": "display_data"
    }
   ],
   "source": [
    "#======== 2-1.(b) ===========//\n",
    "print (\"//===================//\")\n",
    "print (\"//       2-1(b)      //\")\n",
    "print (\"//===================//\")\n",
    "\n",
    "remove_x = [np.delete(train_x, 0, 1), np.delete(train_x, 1, 1), np.delete(train_x, 2, 1),np.delete(train_x, 3, 1),\\\n",
    "            np.delete(train_x, 4, 1), np.delete(train_x, 5, 1), np.delete(train_x, 6, 1)]\n",
    "\n",
    "_,phi2_x1 = phi_POLY(remove_x[0])\n",
    "_,phi2_x2 = phi_POLY(remove_x[1])\n",
    "_,phi2_x3 = phi_POLY(remove_x[2])\n",
    "_,phi2_x4 = phi_POLY(remove_x[3])\n",
    "_,phi2_x5 = phi_POLY(remove_x[4])\n",
    "_,phi2_x6 = phi_POLY(remove_x[5])\n",
    "_,phi2_x7 = phi_POLY(remove_x[6])\n",
    "\n",
    "RMS_train_REMOVE = [ prediction(remove_x[0], train_t, 2, np.dot(np.dot(inv(np.dot(phi2_x1.T, phi2_x1)), phi2_x1.T), train_t)),\\\n",
    "                     prediction(remove_x[1], train_t, 2, np.dot(np.dot(inv(np.dot(phi2_x2.T, phi2_x2)), phi2_x2.T), train_t)),\\\n",
    "                     prediction(remove_x[2], train_t, 2, np.dot(np.dot(inv(np.dot(phi2_x3.T, phi2_x3)), phi2_x3.T), train_t)),\\\n",
    "                     prediction(remove_x[3], train_t, 2, np.dot(np.dot(inv(np.dot(phi2_x4.T, phi2_x4)), phi2_x4.T), train_t)),\\\n",
    "                     prediction(remove_x[4], train_t, 2, np.dot(np.dot(inv(np.dot(phi2_x5.T, phi2_x5)), phi2_x5.T), train_t)),\\\n",
    "                     prediction(remove_x[5], train_t, 2, np.dot(np.dot(inv(np.dot(phi2_x6.T, phi2_x6)), phi2_x6.T), train_t)),\\\n",
    "                     prediction(remove_x[6], train_t, 2, np.dot(np.dot(inv(np.dot(phi2_x7.T, phi2_x7)), phi2_x7.T), train_t)),\\\n",
    "                    ]\n",
    "\n",
    "idx = np.argmax(RMS_train_REMOVE)\n",
    "print(\"RMS of training REMOVE sth.\")\n",
    "print(RMS_train_REMOVE)\n",
    "\n",
    "label = ['GRE_score', 'TOFEL_score', 'University_rating', 'SOP','LOR ', 'CGPA', 'Research']\n",
    "x_idx = np.arange(0, 7)\n",
    "\n",
    "print(\"The most contributive attribte is: %s\" %label[idx])\n",
    "plt.figure()\n",
    "plt.title('ERROR_RMS corresponding whem remove each')\n",
    "plt.ylabel('ERROR_RMS')\n",
    "plt.xticks(x_idx, label, rotation=70)\n",
    "plt.ylim(2, 6)\n",
    "plt.bar(x_idx, RMS_train_REMOVE, facecolor='lightskyblue', edgecolor='white', label='x', width=0.7)\n",
    "plt.show()"
   ]
  },
  {
   "cell_type": "markdown",
   "metadata": {},
   "source": [
    "## 【Maximum Likelihood approach (2-2) 】"
   ]
  },
  {
   "cell_type": "code",
   "execution_count": 209,
   "metadata": {},
   "outputs": [],
   "source": [
    "#fetch training data and target from dataset_X.csv and dataset_T.csv\n",
    "data_x, data_t = loaddata('data_X.csv', 'data_T.csv')\n",
    "N = data_x.shape[0]\n",
    "data_x = data_x[1:,1:]\n",
    "data_t = data_t[1:,1:]\n",
    "#print(data_x.shape)\n",
    "#print(data_t.shape)\n",
    "#divide training set and validation set\n",
    "train_x, val_x, train_t, val_t = splitdata_M1(data_x, data_t, N-1, 0.8)"
   ]
  },
  {
   "cell_type": "code",
   "execution_count": 210,
   "metadata": {},
   "outputs": [
    {
     "name": "stdout",
     "output_type": "stream",
     "text": [
      "//===================================//\n",
      "//             2-2.(a,b)             //\n",
      "//===================================//\n",
      "//=== maximum likelihood approach ===//\n",
      "//===================================//\n",
      "//===> train_error_ml_1d = 0.06256452393106708\n",
      "//===> validation_error_ml_1d = 0.05417647185084512\n",
      "//================================================//\n",
      "//===> train_error_ml_2d = 0.060428075264598716\n",
      "//===> validation_error_ml_2d = 0.04914900534691331\n",
      "//================================================//\n"
     ]
    },
    {
     "name": "stderr",
     "output_type": "stream",
     "text": [
      "/usr/local/lib/python3.6/dist-packages/ipykernel_launcher.py:68: RuntimeWarning: divide by zero encountered in double_scalars\n",
      "/usr/local/lib/python3.6/dist-packages/ipykernel_launcher.py:67: RuntimeWarning: divide by zero encountered in double_scalars\n"
     ]
    },
    {
     "data": {
      "image/png": "[encoded data removed]",
      "text/plain": [
       "<Figure size 432x288 with 1 Axes>"
      ]
     },
     "metadata": {
      "needs_background": "light"
     },
     "output_type": "display_data"
    }
   ],
   "source": [
    "#======== 2-2.(a,b) ===========//\n",
    "print (\"//===================================//\")\n",
    "print (\"//             2-2.(a,b)             //\")\n",
    "print (\"//===================================//\")\n",
    "print (\"//=== maximum likelihood approach ===//\")\n",
    "print (\"//===================================//\")\n",
    "\n",
    "#================= M=1 ====================\n",
    "#training_set normalization and operate sigmoid\n",
    "train_x, val_x, train_t, val_t = splitdata_M1(data_x, data_t, N-1, 0.7)\n",
    "train_x_ml_1d = train_x[:, 1:]\n",
    "# print(train_x_ml_1d)\n",
    "# print(train_x_ml_1d.shape)\n",
    "mean_ml_1d_t, std_ml_1d_t = mean_std(train_x_ml_1d)\n",
    "# print(mean_ml_1d)\n",
    "# print(std_ml_1d)\n",
    "normalization_result_t = normalization(train_x_ml_1d, mean_ml_1d_t, std_ml_1d_t)\n",
    "#print(normalization_result)\n",
    "# print(normalization_result.shape)\n",
    "sigmoid_result_t = sigmoid_op(normalization_result_t)\n",
    "\n",
    "#training set split data\n",
    "train_x_ml, val_x_ml, train_t_ml, val_t_ml = splitdata_M1(sigmoid_result_t, train_t, 350, 1)\n",
    "#calaulate Wml_ml_1d\n",
    "wml_ml_1d = linear_regression_1d_wml(train_x_ml, train_t_ml)\n",
    "#print(wml_ml_1d.shape)\n",
    "#print(train_x_ml.shape)\n",
    "train_error_ml_1d, val_error_ml_1d = linear_regression_error(train_x_ml, wml_ml_1d, train_t_ml, 350, 1)\n",
    "print(\"//===> train_error_ml_1d =\", train_error_ml_1d)\n",
    "\n",
    "#validation_set normalization and operate sigmoid\n",
    "val_x_ml_1d = val_x[:, 1:]\n",
    "#print(val_x_ml_1d)\n",
    "mean_ml_1d_v, std_ml_1d_v = mean_std(val_x_ml_1d)\n",
    "normalization_result_v = normalization(val_x_ml_1d, mean_ml_1d_v, std_ml_1d_v)\n",
    "sigmoid_result_v = sigmoid_op(normalization_result_v)\n",
    "#validation set split data\n",
    "train_x_ml, val_x_ml, train_t_ml, val_t_ml = splitdata_M1(sigmoid_result_v, val_t, 150, 0)\n",
    "train_error_ml_1d, val_error_ml_1d = linear_regression_error(val_x_ml, wml_ml_1d, val_t_ml, 150, 0)\n",
    "print(\"//===> validation_error_ml_1d =\", val_error_ml_1d)\n",
    "print (\"//================================================//\")\n",
    "\n",
    "#====================== M=2 ==============================\n",
    "m2d = linear_regression_m2d(data_x)\n",
    "m2d_bias = np.ones((500, 1))\n",
    "data_x_m2 = np.append(np.append(m2d_bias, data_x, axis=1), m2d, axis=1)\n",
    "\n",
    "train_x_ml_2d, val_x_ml_2d, train_t_ml_2d, val_t_ml_2d = splitdata_M2(data_x_m2, data_t)\n",
    "train_x_ml_2d_del1 = train_x_ml_2d[:, 1:]\n",
    "\n",
    "wml_2d_ml_2d = linear_regression_2d_wml(train_x_ml_2d_del1, train_t_m2)\n",
    "(train_error_ml_2d, val_error_ml_2d) = linear_regression_error(train_x_ml_2d_del1, wml_2d_ml_2d, train_t_ml_2d, N, 0.8)\n",
    "print(\"//===> train_error_ml_2d =\", train_error_ml_2d)\n",
    "train_error_ml_2d, val_error_ml_2d = linear_regression_error(val_x_m2, wml_2d, val_t_m2, N, 0.8)\n",
    "print(\"//===> validation_error_ml_2d =\", val_error_ml_2d)\n",
    "print (\"//================================================//\")\n",
    "\n",
    "range_M = [1,2]\n",
    "RMS_train = [train_error_ml_1d, train_error_ml_2d]\n",
    "RMS_test  =  [val_error_ml_1d, val_error_ml_2d]   \n",
    "    \n",
    "%matplotlib inline\n",
    "plt.figure()\n",
    "plt.xlabel('M')\n",
    "plt.ylabel('RMS')\n",
    "plt.plot(range_M, RMS_train,color='red',marker = \"x\",label='Training')\n",
    "plt.plot(range_M, RMS_test,color='blue',marker= \"x\",label='Validation')\n",
    "plt.legend(loc=0)\n",
    "plt.show()"
   ]
  },
  {
   "cell_type": "code",
   "execution_count": 211,
   "metadata": {},
   "outputs": [
    {
     "name": "stdout",
     "output_type": "stream",
     "text": [
      "//=================================//\n",
      "//             2-2.(c)             //\n",
      "//=================================//\n",
      "//===  N-fold cross-validation  ===//\n",
      "//=================================//\n",
      "//=> train_error_ml_1d_nfold = 0.062145397707754575\n",
      "//=> validation_error_ml_1d_nfold = 0.09873281010138148\n",
      "--------------------------------------------------\n",
      "//=> train_error_ml_1d_nfold = 0.0806742914955343\n",
      "//=> validation_error_ml_1d_nfold = 0.07267986447451384\n",
      "--------------------------------------------------\n",
      "//=> train_error_ml_1d_nfold = 0.08455363127491465\n",
      "//=> validation_error_ml_1d_nfold = 0.05128056841817997\n",
      "--------------------------------------------------\n",
      "//=> train_error_ml_1d_nfold = 0.07974089792208586\n",
      "//=> validation_error_ml_1d_nfold = 0.06083479736761294\n",
      "--------------------------------------------------\n",
      "//=> train_error_ml_1d_nfold = 0.08400277221268905\n",
      "//=> validation_error_ml_1d_nfold = 0.04486674564661924\n",
      "--------------------------------------------------\n",
      "//============================================================//\n",
      "//===> average_training_error = 0.09777924765324461\n",
      "//===> average_validation_error = 0.08209869650207686\n",
      "//============================================================//\n"
     ]
    },
    {
     "name": "stderr",
     "output_type": "stream",
     "text": [
      "/usr/local/lib/python3.6/dist-packages/ipykernel_launcher.py:68: RuntimeWarning: divide by zero encountered in double_scalars\n",
      "/usr/local/lib/python3.6/dist-packages/ipykernel_launcher.py:67: RuntimeWarning: divide by zero encountered in double_scalars\n"
     ]
    }
   ],
   "source": [
    "#======== 2-2.(c) ===========//\n",
    "print (\"//=================================//\")\n",
    "print (\"//             2-2.(c)             //\")\n",
    "print (\"//=================================//\")\n",
    "print (\"//===  N-fold cross-validation  ===//\")\n",
    "print (\"//=================================//\")\n",
    "#====================== N-fold ==================================\n",
    "batch = 100\n",
    "average_training_error = 0\n",
    "average_validation_error = 0\n",
    "for i in range(0 ,500, batch):\n",
    "    train_x_nfold = np.delete(data_x, slice(i, i+batch), axis=0)\n",
    "    train_t_nfold = np.delete(data_t, slice(i, i+batch), axis=0)\n",
    "    val_x_nfold = data_x[i:i+batch, :]\n",
    "    val_t_nfold = data_t[i:i+batch, :]\n",
    "    #normalization and sigmoid training set\n",
    "    mean_nfold_t, std_nfold_t = mean_std(train_x_nfold)\n",
    "    normalization_nfold_t = normalization(train_x_nfold, mean_nfold_t, std_nfold_t)\n",
    "    sigmoid_nfold_t = sigmoid_op(normalization_nfold_t)\n",
    "    #normalization and sigmoid validation set\n",
    "    mean_nfold_v, std_nfold_v = mean_std(val_x_nfold)\n",
    "    normalization_nfold_v = normalization(val_x_nfold, mean_nfold_v, std_nfold_v)\n",
    "    sigmoid_nfold_v = sigmoid_op(normalization_nfold_v)\n",
    "\n",
    "    #training set split data\n",
    "    train_x_ml_nfold, val_x_ml_nfold, train_t_ml_nfold, val_t_ml_nfold = splitdata_M1(sigmoid_nfold_t, train_t_nfold, 400, 1)\n",
    "    #calaulate Wml_ml_1d\n",
    "    wml_ml_1d_nfold = linear_regression_1d_wml(train_x_ml_nfold, train_t_ml_nfold)\n",
    "    train_error_ml_1d_nfold, val_error_ml_1d_nfold = linear_regression_error(train_x_ml_nfold, wml_ml_1d_nfold, train_t_ml_nfold, 226, 1)\n",
    "    print(\"//=> train_error_ml_1d_nfold =\", train_error_ml_1d_nfold)\n",
    "    average_training_error = average_training_error + train_error_ml_1d_nfold\n",
    "\n",
    "    train_x_ml_nfold, val_x_ml_nfold, train_t_ml_nfold, val_t_ml_nfold = splitdata_M1(sigmoid_nfold_v, val_t_nfold, 100, 0)\n",
    "    train_error_ml_1d_nfold, val_error_ml_1d_nfold = linear_regression_error(val_x_ml_nfold, wml_ml_1d_nfold, val_t_ml_nfold, 100, 0)\n",
    "    print(\"//=> validation_error_ml_1d_nfold =\", val_error_ml_1d_nfold)\n",
    "    print(\"--------------------------------------------------\")\n",
    "    average_validation_error = average_validation_error + val_error_ml_1d_nfold\n",
    "print(\"//============================================================//\")\n",
    "print(\"//===> average_training_error =\", average_training_error/4)\n",
    "print(\"//===> average_validation_error =\", average_validation_error/4)\n",
    "print(\"//============================================================//\")"
   ]
  },
  {
   "cell_type": "markdown",
   "metadata": {},
   "source": [
    "## 【Maximum a posterior approach (2-3) 】"
   ]
  },
  {
   "cell_type": "code",
   "execution_count": 199,
   "metadata": {},
   "outputs": [
    {
     "name": "stdout",
     "output_type": "stream",
     "text": [
      "//=============================//\n",
      "//           2-2.(a,b)         //\n",
      "//=============================//\n",
      "//===  Maximum a posteriori ===//\n",
      "//=============================//\n",
      "//=> train_error_ml_1d_post = 0.07838047839749457\n",
      "//=> validation_error_ml_1d_post = 0.07197337803780822\n",
      "--------------------------------------------------\n",
      "//=> train_error_ml_2d_post = 0.06044030126551411\n",
      "//=> validation_error_ml_2d_post = 0.04914900534691331\n",
      "====================================================\n"
     ]
    },
    {
     "name": "stderr",
     "output_type": "stream",
     "text": [
      "/usr/local/lib/python3.6/dist-packages/ipykernel_launcher.py:68: RuntimeWarning: divide by zero encountered in double_scalars\n",
      "/usr/local/lib/python3.6/dist-packages/ipykernel_launcher.py:67: RuntimeWarning: divide by zero encountered in double_scalars\n"
     ]
    },
    {
     "data": {
      "image/png": "[encoded data removed]",
      "text/plain": [
       "<Figure size 432x288 with 1 Axes>"
      ]
     },
     "metadata": {
      "needs_background": "light"
     },
     "output_type": "display_data"
    }
   ],
   "source": [
    "#======== 2-2.(a,b) ===========//\n",
    "print (\"//=============================//\")\n",
    "print (\"//           2-2.(a,b)         //\")\n",
    "print (\"//=============================//\")\n",
    "print (\"//===  Maximum a posteriori ===//\")\n",
    "print (\"//=============================//\")\n",
    "#================= Maximum a posteriori ============================\n",
    "train_x, val_x, train_t, val_t = splitdata_M1(data_x, data_t, N-1, 0.7)\n",
    "train_x_ml_1d = train_x[:, 1:]\n",
    "mean_ml_1d_t, std_ml_1d_t = mean_std(train_x_ml_1d)\n",
    "normalization_result_t = normalization(train_x_ml_1d, mean_ml_1d_t, std_ml_1d_t)\n",
    "sigmoid_result_t = sigmoid_op(normalization_result_t)\n",
    "\n",
    "#training set split data\n",
    "train_x_ml, val_x_ml, train_t_ml, val_t_ml = splitdata_M1(sigmoid_result_t, train_t, 350, 1)\n",
    "#calaulate Wml_ml_1d\n",
    "wml_ml_1d = linear_regression_post_wml(train_x_ml, train_t_ml)\n",
    "#print(wml_ml_1d.shape)\n",
    "#print(train_x_ml.shape)\n",
    "train_error_ml_1d, val_error_ml_1d = linear_regression_error(train_x_ml, wml_ml_1d, train_t_ml, 350, 1)\n",
    "print(\"//=> train_error_ml_1d_post =\", train_error_ml_1d)\n",
    "\n",
    "\n",
    "#validation_set normalization and operate sigmoid\n",
    "val_x_ml_1d = val_x[:, 1:]\n",
    "#print(val_x_ml_1d)\n",
    "mean_ml_1d_v, std_ml_1d_v = mean_std(val_x_ml_1d)\n",
    "normalization_result_v = normalization(val_x_ml_1d, mean_ml_1d_v, std_ml_1d_v)\n",
    "sigmoid_result_v = sigmoid_op(normalization_result_v)\n",
    "#validation set split data\n",
    "train_x_ml, val_x_ml, train_t_ml, val_t_ml = splitdata_M1(sigmoid_result_v, val_t, 150, 0)\n",
    "train_error_ml_1d, val_error_ml_1d = linear_regression_error(val_x_ml, wml_ml_1d, val_t_ml, 150, 0)\n",
    "print(\"//=> validation_error_ml_1d_post =\", val_error_ml_1d)\n",
    "print(\"--------------------------------------------------\")\n",
    "\n",
    "#============= M=2 ======================\n",
    "m2d = linear_regression_m2d(data_x)\n",
    "m2d_bias = np.ones((500, 1))\n",
    "data_x_m2 = np.append(np.append(m2d_bias, data_x, axis=1), m2d, axis=1)\n",
    "\n",
    "train_x_ml_2d, val_x_ml_2d, train_t_ml_2d, val_t_ml_2d = splitdata_M2(data_x_m2, data_t)\n",
    "\n",
    "train_x_ml_2d_del1 = train_x_ml_2d[:, 1:]\n",
    "wml_2d_ml_2d = linear_regression_2d_wml_post(train_x_ml_2d_del1, train_t_m2)\n",
    "(train_error_ml_2d, val_error_ml_2d) = linear_regression_error(train_x_ml_2d_del1, wml_2d_ml_2d, train_t_ml_2d, N, 0.8)\n",
    "print(\"//=> train_error_ml_2d_post =\", train_error_ml_2d)\n",
    "train_error_ml_2d, val_error_ml_2d = linear_regression_error(val_x_m2, wml_2d, val_t_m2, N, 0.8)\n",
    "print(\"//=> validation_error_ml_2d_post =\", val_error_ml_2d)\n",
    "print(\"====================================================\")\n",
    "\n",
    "m_l = [1,2]\n",
    "RMS_train = [train_error_ml_1d, train_error_ml_2d]\n",
    "RMS_test =  [val_error_ml_1d, val_error_ml_2d]   \n",
    "    \n",
    "%matplotlib inline\n",
    "plt.figure()\n",
    "plt.xlabel('M')\n",
    "plt.ylabel('RMS')\n",
    "plt.plot(m_l, RMS_train, color='red', marker = \"x\", label='Training')\n",
    "plt.plot(m_l, RMS_test, color='blue', marker= \"x\", label='Validation')\n",
    "plt.legend(loc=0)\n",
    "plt.show()"
   ]
  },
  {
   "cell_type": "code",
   "execution_count": 200,
   "metadata": {},
   "outputs": [
    {
     "name": "stdout",
     "output_type": "stream",
     "text": [
      "//=================================//\n",
      "//             2-3.(c)             //\n",
      "//=================================//\n",
      "//===  N-fold cross-validation  ===//\n",
      "//=================================//\n",
      "//=> train_error_ml_1d_nfold = 0.06238544916062084\n",
      "//=> validation_error_ml_1d_nfold = 0.11295272263623703\n",
      "--------------------------------------------------\n",
      "//=> train_error_ml_1d_nfold = 0.07885215740275954\n",
      "//=> validation_error_ml_1d_nfold = 0.07629873917753936\n",
      "--------------------------------------------------\n",
      "//=> train_error_ml_1d_nfold = 0.0799256992723335\n",
      "//=> validation_error_ml_1d_nfold = 0.06194711573123125\n",
      "--------------------------------------------------\n",
      "//=> train_error_ml_1d_nfold = 0.07756156328669339\n",
      "//=> validation_error_ml_1d_nfold = 0.072510279672909\n",
      "--------------------------------------------------\n",
      "//=> train_error_ml_1d_nfold = 0.07844583113056526\n",
      "//=> validation_error_ml_1d_nfold = 0.06711123227376133\n",
      "--------------------------------------------------\n",
      "====================================================\n",
      "average_training_error = 0.09429267506324313\n",
      "average_validation_error = 0.09770502237291949\n",
      "====================================================\n"
     ]
    },
    {
     "name": "stderr",
     "output_type": "stream",
     "text": [
      "/usr/local/lib/python3.6/dist-packages/ipykernel_launcher.py:68: RuntimeWarning: divide by zero encountered in double_scalars\n",
      "/usr/local/lib/python3.6/dist-packages/ipykernel_launcher.py:67: RuntimeWarning: divide by zero encountered in double_scalars\n"
     ]
    }
   ],
   "source": [
    "#======== 2-3.(c) ===========//\n",
    "print (\"//=================================//\")\n",
    "print (\"//             2-3.(c)             //\")\n",
    "print (\"//=================================//\")\n",
    "print (\"//===  N-fold cross-validation  ===//\")\n",
    "print (\"//=================================//\")\n",
    "\n",
    "batch = 100\n",
    "average_training_error = 0\n",
    "average_validation_error = 0\n",
    "for i in range(0 ,500, batch):\n",
    "    train_x_nfold = np.delete(data_x, slice(i, i+batch), axis=0)\n",
    "    train_t_nfold = np.delete(data_t, slice(i, i+batch), axis=0)\n",
    "    val_x_nfold = data_x[i:i+batch, :]\n",
    "    val_t_nfold = data_t[i:i+batch, :]\n",
    "    #normalization and sigmoid training set\n",
    "    mean_nfold_t, std_nfold_t = mean_std(train_x_nfold)\n",
    "    normalization_nfold_t = normalization(train_x_nfold, mean_nfold_t, std_nfold_t)\n",
    "    sigmoid_nfold_t = sigmoid_op(normalization_nfold_t)\n",
    "    #normalization and sigmoid validation set\n",
    "    mean_nfold_v, std_nfold_v = mean_std(val_x_nfold)\n",
    "    normalization_nfold_v = normalization(val_x_nfold, mean_nfold_v, std_nfold_v)\n",
    "    sigmoid_nfold_v = sigmoid_op(normalization_nfold_v)\n",
    "\n",
    "\n",
    "    #training set split data\n",
    "    train_x_ml_nfold, val_x_ml_nfold, train_t_ml_nfold, val_t_ml_nfold = splitdata_M1(sigmoid_nfold_t, train_t_nfold, 400, 1)\n",
    "    #calaulate Wml_ml_1d\n",
    "    wml_ml_1d_nfold = linear_regression_post_wml(train_x_ml_nfold, train_t_ml_nfold)\n",
    "    train_error_ml_1d_nfold, val_error_ml_1d_nfold = linear_regression_error(train_x_ml_nfold, wml_ml_1d_nfold, train_t_ml_nfold, 400, 1)\n",
    "    print(\"//=> train_error_ml_1d_nfold =\", train_error_ml_1d_nfold)\n",
    "    average_training_error = average_training_error + train_error_ml_1d_nfold\n",
    "    train_x_ml_nfold, val_x_ml_nfold, train_t_ml_nfold, val_t_ml_nfold = splitdata_M1(sigmoid_nfold_v, val_t_nfold, 100, 0)\n",
    "    train_error_ml_1d_nfold, val_error_ml_1d_nfold = linear_regression_error(val_x_ml_nfold, wml_ml_1d_nfold, val_t_ml_nfold, 100, 0)\n",
    "    print(\"//=> validation_error_ml_1d_nfold =\", val_error_ml_1d_nfold)\n",
    "    print(\"--------------------------------------------------\")\n",
    "    average_validation_error = average_validation_error + val_error_ml_1d_nfold\n",
    "    \n",
    "print(\"====================================================\")\n",
    "print(\"average_training_error =\", average_training_error/4)\n",
    "print(\"average_validation_error =\", average_validation_error/4)\n",
    "print(\"====================================================\")"
   ]
  },
  {
   "cell_type": "code",
   "execution_count": null,
   "metadata": {},
   "outputs": [],
   "source": []
  }
 ],
 "metadata": {
  "kernelspec": {
   "display_name": "Python 3",
   "language": "python",
   "name": "python3"
  },
  "language_info": {
   "codemirror_mode": {
    "name": "ipython",
    "version": 3
   },
   "file_extension": ".py",
   "mimetype": "text/x-python",
   "name": "python",
   "nbconvert_exporter": "python",
   "pygments_lexer": "ipython3",
   "version": "3.6.9"
  }
 },
 "nbformat": 4,
 "nbformat_minor": 4
}
