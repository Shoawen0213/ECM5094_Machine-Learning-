{
 "cells": [
  {
   "cell_type": "markdown",
   "metadata": {},
   "source": [
    "# 【ML-HW02】"
   ]
  },
  {
   "cell_type": "markdown",
   "metadata": {},
   "source": [
    "## 〔Question 2 : Logistic Regression〕"
   ]
  },
  {
   "cell_type": "markdown",
   "metadata": {},
   "source": [
    "### 〈 Import Library 〉"
   ]
  },
  {
   "cell_type": "code",
   "execution_count": 655,
   "metadata": {},
   "outputs": [],
   "source": [
    "import math\n",
    "import numpy as np\n",
    "import matplotlib.pyplot as plt\n",
    "from PIL import Image"
   ]
  },
  {
   "cell_type": "code",
   "execution_count": 656,
   "metadata": {},
   "outputs": [],
   "source": [
    "def shuffle_2D_matrix(matrix, seed, axis = 0):\n",
    "    \"\"\"\n",
    "    Shuffle 2D matrix by column or row.\n",
    "    \n",
    "    Arguments:\n",
    "    matrix: 2D matrix to be shuffled\n",
    "    seed  : seed of numpy.random\n",
    "    axis  : zero - by column, non-zero - by row\n",
    "    \n",
    "    Returns:\n",
    "    shuffled_matrix: shuffled matrix\n",
    "    \"\"\"\n",
    "    np.random.seed(seed)\n",
    "    if axis == 0: # by column\n",
    "        m = matrix.shape[1]\n",
    "        permutation = list(np.random.permutation(m))\n",
    "        shuffled_matrix = matrix[:, permutation]\n",
    "    else:          # by row\n",
    "        m = matrix.shape[0]\n",
    "        permutation = list(np.random.permutation(m))\n",
    "        shuffled_matrix = matrix[permutation, :]\n",
    "\n",
    "    return shuffled_matrix"
   ]
  },
  {
   "cell_type": "code",
   "execution_count": 657,
   "metadata": {},
   "outputs": [],
   "source": [
    "class_num = 5"
   ]
  },
  {
   "cell_type": "code",
   "execution_count": 658,
   "metadata": {},
   "outputs": [],
   "source": [
    "pic_size = 28*28 #high*width\n",
    "train_x = np.zeros([pic_size, 1])\n",
    "test_x = np.zeros([pic_size, 1])"
   ]
  },
  {
   "cell_type": "code",
   "execution_count": 659,
   "metadata": {},
   "outputs": [
    {
     "name": "stdout",
     "output_type": "stream",
     "text": [
      "train_x.shape = :(784, 160)\n",
      "test_x.shape = :(784, 160)\n"
     ]
    }
   ],
   "source": [
    "#creat_dataset\n",
    "pic_size = 28*28\n",
    "train_x = np.zeros([pic_size, 1])\n",
    "test_x  = np.zeros([pic_size, 1])\n",
    "for fashion_mnist_idx in range(0, 5):\n",
    "#     print(f'fashion_mnist_idx:{fashion_mnist_idx}')\n",
    "    data_x = np.zeros([pic_size, 1])\n",
    "    for fashion_idx in range(0, 64):\n",
    "        imgPath = 'Fashion_MNIST/' + '{fashion_mnist_idx}/{fashion_idx}.png'.format(fashion_mnist_idx=fashion_mnist_idx, fashion_idx=fashion_idx) \n",
    "#         print(f'imgPath = :{imgPath}')\n",
    "        img = Image.open(imgPath)\n",
    "        img_arr = np.array(img)\n",
    "#         print(f'img_arr = :{img_arr}')\n",
    "#         print(f'img_arr shape = :{img_arr.shape}')\n",
    "        img_arr = img_arr.reshape((img_arr.shape[0]*img_arr.shape[1], 1))\n",
    "#         print(f'img_arr.shape = :{img_arr.shape}')\n",
    "        \n",
    "        #normalize\n",
    "        sd = math.sqrt(np.var(img_arr))        \n",
    "#         print(f'sd = :{sd}')\n",
    "        mu = np.mean(img_arr)\n",
    "        img_arr = (img_arr-mu)/sd\n",
    "        #normalize\n",
    "        data_x = np.concatenate((data_x, img_arr), axis=1)\n",
    "#         print(f'data_x.shape = :{data_x.shape}')\n",
    "\n",
    "    data_x = data_x[:, 1:]\n",
    "#     print(f'data_x.shape = :{data_x.shape}')\n",
    "    train_x = np.concatenate((train_x, data_x[:, 0:32]), axis=1)\n",
    "#     print(f'train_x.shape = :{train_x.shape}')\n",
    "    test_x = np.concatenate((test_x, data_x[:, 32:64]), axis=1) \n",
    "#     print(f'test_x.shape = :{test_x.shape}')\n",
    " \n",
    "train_x = train_x[:, 1:]\n",
    "# print(f'train_x = :{train_x}')\n",
    "print(f'train_x.shape = :{train_x.shape}')\n",
    "test_x = test_x[:, 1:] \n",
    "# print(f'test_x = :{test_x}')\n",
    "print(f'test_x.shape = :{test_x.shape}')"
   ]
  },
  {
   "cell_type": "code",
   "execution_count": 660,
   "metadata": {},
   "outputs": [
    {
     "name": "stdout",
     "output_type": "stream",
     "text": [
      "train_x.shape = :(160, 784)\n",
      "test_x.shape  = :(160, 784)\n",
      "train_t.shape = :(5, 160)\n",
      "test_t.shape  = :(5, 160)\n"
     ]
    }
   ],
   "source": [
    "#label \n",
    "# one-to-K-code for building train_t\n",
    "oneToK_code = np.array([0, 1, 0, 0, 0]).reshape(5, 1)\n",
    "# print(f'oneToK_code = :{oneToK_code}')\n",
    "train_t = np.zeros([5, 1])\n",
    "# print(f'train_t = :{train_t}')\n",
    "for roll in range(5):\n",
    "#     print(f'roll = :{roll}')\n",
    "    tmpCode = np.roll(oneToK_code, roll)\n",
    "#     print(f'tmpCode = :{tmpCode}')\n",
    "    tmpCode_repeat = np.repeat(tmpCode, 32, axis=1)\n",
    "#     print(f'tmpCode_repeat = :{tmpCode_repeat}')\n",
    "    train_t = np.concatenate((train_t, tmpCode_repeat), axis=1)\n",
    "#     print(f'train_t = :{train_t}')\n",
    "# print(f'train_t_out = :{train_t}')\n",
    "test_x = test_x.T\n",
    "train_x = train_x.T \n",
    "\n",
    "train_t = train_t[:, 1:]\n",
    "# print(f'train_t = :{train_t}')\n",
    "test_t = np.array(train_t)\n",
    "# print(f'test_t = :{test_t}')\n",
    "\n",
    "print(f'train_x.shape = :{train_x.shape}')\n",
    "print(f'test_x.shape  = :{test_x.shape}')\n",
    "print(f'train_t.shape = :{train_t.shape}')\n",
    "print(f'test_t.shape  = :{test_t.shape}')"
   ]
  },
  {
   "cell_type": "code",
   "execution_count": 661,
   "metadata": {},
   "outputs": [],
   "source": [
    "#gradient descent\n",
    "train_err = 100000\n",
    "test_err = 100000\n",
    "epoch = 0\n",
    "\n",
    "weight = np.zeros([5, pic_size]) #5x784\n",
    "weightList = np.empty(weight.shape)\n",
    "\n",
    "learningRate = 0.00003\n",
    "train_errList = []\n",
    "train_accList = []\n",
    "\n",
    "test_errList = []\n",
    "test_accList = []"
   ]
  },
  {
   "cell_type": "code",
   "execution_count": 662,
   "metadata": {},
   "outputs": [
    {
     "name": "stdout",
     "output_type": "stream",
     "text": [
      "101\n",
      "101\n",
      "╔════════════════════════╗\n",
      "║ classification result  ║\n",
      "╚════════════════════════╝\n",
      "TYPE : Gradient Descent \n",
      "w/o PCA \n",
      "Training accurancy : 0.975\n",
      "Test accurancy     :  0.91875\n"
     ]
    },
    {
     "data": {
      "image/png": "[encoded data removed]",
      "text/plain": [
       "<Figure size 432x288 with 1 Axes>"
      ]
     },
     "metadata": {
      "needs_background": "light"
     },
     "output_type": "display_data"
    },
    {
     "data": {
      "image/png": "[encoded data removed]",
      "text/plain": [
       "<Figure size 432x288 with 1 Axes>"
      ]
     },
     "metadata": {
      "needs_background": "light"
     },
     "output_type": "display_data"
    }
   ],
   "source": [
    "while not(train_err<5 or epoch>100):\n",
    "    #trainign part\n",
    "    #Newton-Raphson algorithms : \n",
    "    a_nk = np.dot(weight, train_x.T) #5 x 160\n",
    "    \n",
    "    #softmax transformation\n",
    "#     print(f'np.exp(a_nk_SGD) = :{np.exp(a_nk_SGD)}')\n",
    "#     print(f'np.sum(np.exp(a_nk_SGD) = :{np.sum(np.exp(a_nk_SGD))}')\n",
    "    y_nk = (np.exp(a_nk) / np.sum(np.exp(a_nk), axis=0)) #5 x 160\n",
    "#     print(f'y_nk = :{y_nk}')\n",
    "    \n",
    "    #update weight\n",
    "    weight = weight + learningRate * np.dot((train_t- y_nk), train_x) #5 x 784\n",
    "#     print(f'weight shape = :{weight.shape}')\n",
    "    \n",
    "    #error function\n",
    "    train_err = -np.sum(train_t*np.log(y_nk))\n",
    "    train_errList.append(train_err)\n",
    "    \n",
    "    clasfi_train_y = np.argmax(y_nk, axis=0)\n",
    "    clasfi_train_t = np.argmax(train_t, axis=0)\n",
    "   \n",
    "    train_accu = np.count_nonzero((clasfi_train_y-clasfi_train_t)==0)/y_nk.shape[1] #y_nk.shape[1]=160\n",
    "    train_accList.append(train_accu)\n",
    "    \n",
    "    #testing part\n",
    "    test_a = np.dot(weight, test_x.T) \n",
    "    test_y = np.exp(test_a) / np.sum(np.exp(test_a), axis=0)\n",
    "    test_err = -np.sum(test_t*np.log(test_y))\n",
    "    test_errList.append(test_err)\n",
    "    \n",
    "    clasfi_test_y = np.argmax(test_y, axis=0)\n",
    "    clasfi_test_t = np.argmax(test_t, axis=0)\n",
    "    \n",
    "    test_accu = np.count_nonzero((clasfi_test_y-clasfi_test_t)==0)/test_y.shape[1]\n",
    "    test_accList.append(test_accu)\n",
    "    \n",
    "    epoch = epoch + 1\n",
    "#     print(f'epoch = :{epoch}')\n",
    "\n",
    "print(len(train_errList))\n",
    "print(len(test_errList))\n",
    "\n",
    "#plot_result\n",
    "plt.figure()\n",
    "plt.title(\"Learning curve : Gradient Descent w/o PCA\")\n",
    "plt.plot(range(1, epoch+1), train_errList, label=\"train_error\")\n",
    "plt.plot(range(1, epoch+1), test_errList, '--', label=\"test_error\")\n",
    "plt.legend()\n",
    "plt.figure()\n",
    "plt.title(\"Accurancy : w/o PCA\")\n",
    "plt.plot(range(1, epoch+1), train_accList, label=\"train_acc\")\n",
    "plt.plot(range(1, epoch+1), test_accList, '--', label=\"test_acc\")\n",
    "plt.legend()\n",
    "\n",
    "print('╔════════════════════════╗')\n",
    "print('║ classification result  ║')\n",
    "print('╚════════════════════════╝')\n",
    "print ('TYPE : Gradient Descent ')\n",
    "print ('w/o PCA ')\n",
    "print ('Training accurancy :', train_accList[100])\n",
    "print ('Test accurancy     : ', test_accList[100])"
   ]
  },
  {
   "cell_type": "code",
   "execution_count": 639,
   "metadata": {},
   "outputs": [
    {
     "name": "stdout",
     "output_type": "stream",
     "text": [
      "╔══════╗\n",
      "║ SGD  ║\n",
      "╚══════╝\n"
     ]
    }
   ],
   "source": [
    "print('╔══════╗')\n",
    "print('║ SGD  ║')\n",
    "print('╚══════╝')"
   ]
  },
  {
   "cell_type": "code",
   "execution_count": 640,
   "metadata": {},
   "outputs": [],
   "source": [
    "import numpy as np\n",
    "\n",
    "def shuffle_2D_matrix(matrix, seed, axis = 0):\n",
    "    \"\"\"\n",
    "    Shuffle 2D matrix by column or row.\n",
    "    \n",
    "    Arguments:\n",
    "    matrix: 2D matrix to be shuffled\n",
    "    seed  : seed of numpy.random\n",
    "    axis  : zero - by column, non-zero - by row\n",
    "    \n",
    "    Returns:\n",
    "    shuffled_matrix: shuffled matrix\n",
    "    \"\"\"\n",
    "    np.random.seed(seed)\n",
    "    if axis == 0: # by column\n",
    "        m = matrix.shape[1]\n",
    "        permutation = list(np.random.permutation(m))\n",
    "        shuffled_matrix = matrix[:, permutation]\n",
    "    else:          # by row\n",
    "        m = matrix.shape[0]\n",
    "        permutation = list(np.random.permutation(m))\n",
    "        shuffled_matrix = matrix[permutation, :]\n",
    "\n",
    "    return shuffled_matrix"
   ]
  },
  {
   "cell_type": "code",
   "execution_count": 641,
   "metadata": {},
   "outputs": [
    {
     "name": "stdout",
     "output_type": "stream",
     "text": [
      "train_x_SGD = :[[-1.07309641 -0.92537253 -1.07015831 ... -0.90698001 -0.98468973\n",
      "  -0.74726706]\n",
      " [-1.07309641 -0.92537253 -1.07015831 ... -0.90698001 -0.98468973\n",
      "  -0.74726706]\n",
      " [-1.07309641 -0.92537253 -1.07015831 ... -0.90698001 -0.98468973\n",
      "  -0.74726706]\n",
      " ...\n",
      " [-1.07309641 -0.92537253 -1.07015831 ... -0.90698001 -0.98468973\n",
      "  -0.74726706]\n",
      " [-1.07309641 -0.92537253 -1.07015831 ... -0.90698001 -0.98468973\n",
      "  -0.74726706]\n",
      " [-1.07309641 -0.92537253 -1.07015831 ... -0.90698001 -0.98468973\n",
      "  -0.74726706]]\n",
      "train_x_SGD.shape = :(784, 160)\n",
      "════════════════════════════════════════════════\n",
      "test_x_SGD = :[[-0.98359772 -0.98359772 -0.98359772 ... -0.98359772 -0.98359772\n",
      "  -0.98359772]\n",
      " [-1.00412603 -1.00412603 -1.00412603 ... -1.00412603 -1.00412603\n",
      "  -1.00412603]\n",
      " [-0.73273736 -0.73273736 -0.73273736 ... -0.73273736 -0.73273736\n",
      "  -0.73273736]\n",
      " ...\n",
      " [-0.87743036 -0.87743036 -0.87743036 ... -0.87743036 -0.87743036\n",
      "  -0.87743036]\n",
      " [-0.92495708 -0.92495708 -0.92495708 ... -0.92495708 -0.92495708\n",
      "  -0.92495708]\n",
      " [-1.0286003  -1.0286003  -1.0286003  ... -1.0286003  -1.0286003\n",
      "  -1.0286003 ]]\n",
      "test_x_SGD.shape = :(160, 784)\n"
     ]
    }
   ],
   "source": [
    "#creat_dataset\n",
    "train_x_SGD = np.zeros([pic_size, 1])\n",
    "test_x_SGD  = np.zeros([pic_size, 1])\n",
    "for fashion_mnist_idx in range(0, 5):\n",
    "    data_x = np.zeros([pic_size, 1])\n",
    "    for fashion_idx in range(0, 64):\n",
    "        imgPath = 'Fashion_MNIST/' + '{fashion_mnist_idx}/{fashion_idx}.png'.format(fashion_mnist_idx=fashion_mnist_idx, fashion_idx=fashion_idx) \n",
    "        img = Image.open(imgPath)\n",
    "        img_arr = np.array(img)\n",
    "        img_arr = img_arr.reshape((img_arr.shape[0]*img_arr.shape[1], 1))\n",
    "\n",
    "        \n",
    "        #normalize\n",
    "        sd = math.sqrt(np.var(img_arr))        \n",
    "\n",
    "        mu = np.mean(img_arr)\n",
    "        img_arr = (img_arr-mu)/sd\n",
    "        #normalize\n",
    "        data_x = np.concatenate((data_x, img_arr), axis=1)\n",
    "\n",
    "    data_x = data_x[:, 1:]\n",
    "    train_x_SGD = np.concatenate((train_x_SGD, data_x[:, 0:32]), axis=1)\n",
    "    test_x_SGD = np.concatenate((test_x_SGD, data_x[:, 32:64]), axis=1) \n",
    "\n",
    "train_x_SGD = train_x_SGD[:, 1:]\n",
    "print(f'train_x_SGD = :{train_x_SGD}')\n",
    "print(f'train_x_SGD.shape = :{train_x_SGD.shape}')\n",
    "print('════════════════════════════════════════════════')\n",
    "test_x_SGD = test_x_SGD[:, 1:] \n",
    "print(f'test_x_SGD = :{test_x}')\n",
    "print(f'test_x_SGD.shape = :{test_x.shape}')"
   ]
  },
  {
   "cell_type": "code",
   "execution_count": 642,
   "metadata": {},
   "outputs": [
    {
     "name": "stdout",
     "output_type": "stream",
     "text": [
      "train_t_SGD_label.shape = :(5, 160)\n",
      "test_t_SGD_label.shape  = :(5, 160)\n"
     ]
    }
   ],
   "source": [
    "#label \n",
    "# one-to-K-code for building train_t\n",
    "oneToK_code = np.array([0, 1, 0, 0, 0]).reshape(5, 1)\n",
    "# print(f'oneToK_code = :{oneToK_code}')\n",
    "train_t_SGD_label = np.zeros([5, 1])\n",
    "# print(f'train_t = :{train_t}')\n",
    "for roll in range(5):\n",
    "#     print(f'roll = :{roll}')\n",
    "    tmpCode = np.roll(oneToK_code, roll)\n",
    "#     print(f'tmpCode = :{tmpCode}')\n",
    "    tmpCode_repeat = np.repeat(tmpCode, 32, axis=1)\n",
    "#     print(f'tmpCode_repeat = :{tmpCode_repeat}')\n",
    "    train_t_SGD_label = np.concatenate((train_t_SGD_label, tmpCode_repeat), axis=1)\n",
    "#     print(f'train_t = :{train_t}')\n",
    "# print(f'train_t_out = :{train_t}')\n",
    "\n",
    "train_t_SGD_label = train_t_SGD_label[:, 1:]\n",
    "# print(f'train_t = :{train_t}')\n",
    "test_t_SGD_label = np.array(train_t_SGD_label)\n",
    "# print(f'test_t = :{test_t}')\n",
    "\n",
    "print(f'train_t_SGD_label.shape = :{train_t_SGD_label.shape}')\n",
    "print(f'test_t_SGD_label.shape  = :{test_t_SGD_label.shape}')"
   ]
  },
  {
   "cell_type": "code",
   "execution_count": 619,
   "metadata": {},
   "outputs": [
    {
     "name": "stdout",
     "output_type": "stream",
     "text": [
      "random seed = :109\n",
      "train_x_SGD_shuffle = :[[-1.25748962 -0.92943653 -0.75631028 ... -0.86316054 -0.69030223\n",
      "  -0.73560546]\n",
      " [-1.25748962 -0.92943653 -0.75631028 ... -0.86316054 -0.69030223\n",
      "  -0.73560546]\n",
      " [-1.25748962 -0.92943653 -0.75631028 ... -0.86316054 -0.69030223\n",
      "  -0.73560546]\n",
      " ...\n",
      " [-1.25748962 -0.92943653 -0.75631028 ... -0.86316054 -0.69030223\n",
      "  -0.73560546]\n",
      " [-1.25748962 -0.92943653 -0.75631028 ... -0.86316054 -0.69030223\n",
      "  -0.73560546]\n",
      " [-1.25748962 -0.92943653 -0.75631028 ... -0.86316054 -0.69030223\n",
      "  -0.73560546]]\n",
      "train_x_SGD_shuffle.shape = :(784, 160)\n",
      "train_x_SGD_shuffle.data type = :<class 'numpy.ndarray'>\n",
      "train_t_SGD_label_shuffle = :[[1. 0. 0. 0. 0. 0. 0. 0. 0. 0. 0. 1. 0. 1. 0. 0. 0. 0. 0. 0. 1. 0. 0. 0.\n",
      "  0. 0. 0. 0. 0. 0. 1. 1. 0. 1. 0. 1. 0. 0. 0. 0. 0. 0. 0. 0. 1. 0. 0. 0.\n",
      "  0. 0. 0. 0. 0. 0. 0. 0. 0. 0. 0. 0. 0. 0. 0. 0. 1. 1. 0. 1. 0. 0. 0. 1.\n",
      "  0. 0. 1. 0. 0. 0. 0. 0. 0. 1. 1. 0. 1. 0. 0. 1. 0. 0. 0. 0. 1. 0. 1. 0.\n",
      "  0. 0. 0. 1. 0. 0. 0. 0. 0. 0. 1. 1. 0. 0. 0. 0. 0. 0. 0. 0. 0. 0. 0. 1.\n",
      "  1. 0. 0. 0. 1. 0. 0. 0. 1. 1. 0. 0. 0. 0. 0. 0. 0. 0. 0. 0. 0. 1. 0. 0.\n",
      "  0. 0. 0. 0. 0. 1. 0. 0. 0. 0. 0. 0. 0. 1. 1. 0.]\n",
      " [0. 1. 0. 0. 0. 1. 1. 0. 0. 0. 0. 0. 0. 0. 1. 0. 0. 0. 0. 0. 0. 0. 1. 1.\n",
      "  0. 1. 0. 0. 1. 0. 0. 0. 1. 0. 0. 0. 1. 0. 0. 0. 0. 0. 0. 0. 0. 0. 0. 0.\n",
      "  0. 0. 0. 0. 0. 0. 0. 0. 0. 0. 0. 1. 0. 0. 1. 0. 0. 0. 0. 0. 0. 1. 1. 0.\n",
      "  0. 0. 0. 1. 0. 0. 0. 0. 0. 0. 0. 0. 0. 1. 0. 0. 0. 0. 0. 0. 0. 1. 0. 0.\n",
      "  0. 0. 0. 0. 0. 0. 0. 0. 1. 1. 0. 0. 1. 0. 1. 0. 0. 0. 0. 1. 0. 0. 0. 0.\n",
      "  0. 0. 0. 0. 0. 0. 0. 1. 0. 0. 1. 0. 1. 1. 1. 0. 0. 0. 0. 1. 0. 0. 1. 0.\n",
      "  0. 0. 0. 0. 0. 0. 1. 0. 0. 0. 1. 0. 0. 0. 0. 1.]\n",
      " [0. 0. 0. 1. 0. 0. 0. 1. 0. 0. 1. 0. 1. 0. 0. 0. 0. 0. 0. 0. 0. 1. 0. 0.\n",
      "  0. 0. 0. 0. 0. 0. 0. 0. 0. 0. 0. 0. 0. 0. 0. 0. 1. 0. 0. 0. 0. 0. 0. 0.\n",
      "  1. 0. 1. 0. 0. 1. 0. 1. 1. 0. 1. 0. 0. 0. 0. 0. 0. 0. 1. 0. 0. 0. 0. 0.\n",
      "  0. 0. 0. 0. 0. 0. 0. 0. 0. 0. 0. 1. 0. 0. 0. 0. 0. 0. 0. 1. 0. 0. 0. 0.\n",
      "  1. 0. 0. 0. 0. 0. 1. 0. 0. 0. 0. 0. 0. 1. 0. 0. 1. 0. 0. 0. 0. 1. 1. 0.\n",
      "  0. 1. 0. 0. 0. 0. 0. 0. 0. 0. 0. 1. 0. 0. 0. 0. 0. 0. 1. 0. 1. 0. 0. 1.\n",
      "  0. 1. 0. 0. 1. 0. 0. 1. 1. 1. 0. 1. 0. 0. 0. 0.]\n",
      " [0. 0. 0. 0. 0. 0. 0. 0. 0. 1. 0. 0. 0. 0. 0. 1. 0. 0. 1. 1. 0. 0. 0. 0.\n",
      "  0. 0. 1. 0. 0. 1. 0. 0. 0. 0. 0. 0. 0. 0. 0. 1. 0. 0. 0. 1. 0. 1. 1. 0.\n",
      "  0. 1. 0. 0. 1. 0. 0. 0. 0. 1. 0. 0. 1. 0. 0. 0. 0. 0. 0. 0. 0. 0. 0. 0.\n",
      "  1. 1. 0. 0. 0. 0. 1. 0. 0. 0. 0. 0. 0. 0. 1. 0. 1. 1. 0. 0. 0. 0. 0. 1.\n",
      "  0. 1. 1. 0. 1. 1. 0. 0. 0. 0. 0. 0. 0. 0. 0. 1. 0. 0. 1. 0. 0. 0. 0. 0.\n",
      "  0. 0. 1. 0. 0. 1. 0. 0. 0. 0. 0. 0. 0. 0. 0. 1. 0. 0. 0. 0. 0. 0. 0. 0.\n",
      "  0. 0. 0. 1. 0. 0. 0. 0. 0. 0. 0. 0. 1. 0. 0. 0.]\n",
      " [0. 0. 1. 0. 1. 0. 0. 0. 1. 0. 0. 0. 0. 0. 0. 0. 1. 1. 0. 0. 0. 0. 0. 0.\n",
      "  1. 0. 0. 1. 0. 0. 0. 0. 0. 0. 1. 0. 0. 1. 1. 0. 0. 1. 1. 0. 0. 0. 0. 1.\n",
      "  0. 0. 0. 1. 0. 0. 1. 0. 0. 0. 0. 0. 0. 1. 0. 1. 0. 0. 0. 0. 1. 0. 0. 0.\n",
      "  0. 0. 0. 0. 1. 1. 0. 1. 1. 0. 0. 0. 0. 0. 0. 0. 0. 0. 1. 0. 0. 0. 0. 0.\n",
      "  0. 0. 0. 0. 0. 0. 0. 1. 0. 0. 0. 0. 0. 0. 0. 0. 0. 1. 0. 0. 1. 0. 0. 0.\n",
      "  0. 0. 0. 1. 0. 0. 1. 0. 0. 0. 0. 0. 0. 0. 0. 0. 1. 1. 0. 0. 0. 0. 0. 0.\n",
      "  1. 0. 1. 0. 0. 0. 0. 0. 0. 0. 0. 0. 0. 0. 0. 0.]]\n",
      "train_t_SGD_label_shuffle.shape = :(5, 160)\n",
      "train_t_SGD_label_shuffle.data type = :<class 'numpy.ndarray'>\n"
     ]
    }
   ],
   "source": [
    "#shuffle train_x_SGD, train_t_SGD_label\n",
    "seed = random.randint(1, 300)\n",
    "print(f'random seed = :{seed}')\n",
    "train_x_SGD_shuffle = shuffle_2D_matrix(train_x_SGD, seed, axis=0)\n",
    "train_t_SGD_label_shuffle = shuffle_2D_matrix(train_t_SGD_label, seed, axis=0)\n",
    "print(f'train_x_SGD_shuffle = :{train_x_SGD_shuffle}')\n",
    "print(f'train_x_SGD_shuffle.shape = :{train_x_SGD_shuffle.shape}')\n",
    "print(f'train_x_SGD_shuffle.data type = :{type(train_x_SGD_shuffle)}')\n",
    "print(f'train_t_SGD_label_shuffle = :{train_t_SGD_label_shuffle}')\n",
    "print(f'train_t_SGD_label_shuffle.shape = :{train_t_SGD_label_shuffle.shape}')\n",
    "print(f'train_t_SGD_label_shuffle.data type = :{type(train_t_SGD_label_shuffle)}')"
   ]
  },
  {
   "cell_type": "code",
   "execution_count": 653,
   "metadata": {},
   "outputs": [],
   "source": [
    "#SGD\n",
    "train_err_SGD = 100000\n",
    "test_err_SGD = 100000\n",
    "epoch = 0\n",
    "\n",
    "weight_SGD = np.zeros([5, pic_size]) #5x784\n",
    "weight_SGD_List = np.empty(weight_SGD.shape)\n",
    "\n",
    "learningRate = 0.00003\n",
    "train_SGD_errList = []\n",
    "train_SGD_accList = []\n",
    "\n",
    "test_SGD_errList = []\n",
    "test_SGD_accList = []"
   ]
  },
  {
   "cell_type": "code",
   "execution_count": 664,
   "metadata": {},
   "outputs": [
    {
     "name": "stdout",
     "output_type": "stream",
     "text": [
      "101\n",
      "101\n",
      "╔════════════════════════╗\n",
      "║ classification result  ║\n",
      "╚════════════════════════╝\n",
      "TYPE : mini SGD \n",
      "w/o PCA \n",
      "Training accurancy : 0.975\n",
      "Test accurancy     : 0.91875\n"
     ]
    },
    {
     "data": {
      "image/png": "[encoded data removed]",
      "text/plain": [
       "<Figure size 432x288 with 1 Axes>"
      ]
     },
     "metadata": {
      "needs_background": "light"
     },
     "output_type": "display_data"
    },
    {
     "data": {
      "image/png": "[encoded data removed]",
      "text/plain": [
       "<Figure size 432x288 with 1 Axes>"
      ]
     },
     "metadata": {
      "needs_background": "light"
     },
     "output_type": "display_data"
    }
   ],
   "source": [
    "while not(train_err_SGD<5 or epoch>100):\n",
    "    #trainign part\n",
    "    for i in range(0, 160):\n",
    "#         print(i)\n",
    "        x = train_x_SGD_shuffle[:, i:i+1] #784 x 1\n",
    "        train_SGD_t_ans = train_t_SGD_label_shuffle[:, i:i+1] #5 x 1\n",
    "#         print(f'train_SGD_t_ans = :{train_SGD_t_ans}')\n",
    "#         print(f'train_SGD_t_ans.shape = :{train_SGD_t_ans.shape}') \n",
    "#         print(f'x = :{x}')\n",
    "#         print(f'x.shape = :{x.shape}')\n",
    "        a_nk_SGD = np.dot(weight_SGD, x)  #5 x 1\n",
    "#         print(f'a_nk.shape = :{a_nk.shape}')\n",
    "#         print(f'a_nk_SGD = :{a_nk_SGD}')\n",
    "#         print(f'np.exp(a_nk_SGD) = :{np.exp(a_nk_SGD)}')\n",
    "#         print(f'np.sum(np.exp(a_nk_SGD) = :{np.sum(np.exp(a_nk_SGD))}')\n",
    "        \n",
    "        #softmax transformation \n",
    "        y_nk_SGD = (np.exp(a_nk_SGD) / np.sum(np.exp(a_nk_SGD), axis=0)) #5 x 1\n",
    "#         print(f'y_nk.shape = :{y_nk.shape}')\n",
    "#         print(f'y_nk_SGD = :{y_nk_SGD}')\n",
    "#       \n",
    "        #update weight\n",
    "        weight_SGD = weight_SGD - learningRate * np.dot((y_nk_SGD - train_SGD_t_ans), x.T) #5 x 784\n",
    "#         print(f'weight.shape = :{weight.shape}')    \n",
    "#         print(f'weight_SGD = :{weight_SGD}')   \n",
    "         \n",
    "    #error function\n",
    "    a_nk_SGD_160 = np.dot(weight_SGD, train_x_SGD_shuffle) #5 x 160\n",
    "    y_nk_SGD_160 = (np.exp(a_nk_SGD_160) / np.sum(np.exp(a_nk_SGD_160))) #5 x 160\n",
    "    \n",
    "    train_err_SGD = -np.sum(train_t_SGD_label_shuffle*np.log(y_nk_SGD_160))\n",
    "    train_SGD_errList.append(train_err_SGD)\n",
    "    \n",
    "    clasfi_train_SGD_y = np.argmax(y_nk_SGD_160, axis=0)\n",
    "    clasfi_train_SGD_t = np.argmax(train_t_SGD_label_shuffle, axis=0)\n",
    "   \n",
    "    train_accu_SGD = np.count_nonzero((clasfi_train_SGD_y-clasfi_train_SGD_t)==0)/y_nk_SGD_160.shape[1]\n",
    "    train_SGD_accList.append(train_accu_SGD)\n",
    "    \n",
    "    \n",
    "    #testing part\n",
    "    test_ank = np.dot(weight_SGD, test_x_SGD) \n",
    "    test_ynk = np.exp(test_ank) / np.sum(np.exp(test_ank), axis=0)\n",
    "    test_err_SGD = -np.sum(test_ynk*np.log(test_ynk))\n",
    "    test_SGD_errList.append(test_err_SGD)\n",
    "    \n",
    "    clasfi_test_y_SGD = np.argmax(test_ynk, axis=0)\n",
    "    clasfi_test_t_SGD = np.argmax(test_t_SGD_label, axis=0)\n",
    "    \n",
    "    test_accu_SGD = np.count_nonzero((clasfi_test_y_SGD-clasfi_test_t_SGD)==0)/y_nk_SGD_160.shape[1]\n",
    "    test_SGD_accList.append(test_accu_SGD)\n",
    "    \n",
    "    \n",
    "#     print(f'epoch = :{epoch}')\n",
    "    epoch = epoch + 1\n",
    "    \n",
    "print(len(train_SGD_errList))\n",
    "print(len(test_SGD_errList))\n",
    "\n",
    "#plot_result\n",
    "plt.figure()\n",
    "plt.title(\"Learning curve : Gradient Descent w/o PCA\")\n",
    "plt.plot(range(1,  epoch+1), train_SGD_errList, label=\"train_error\")\n",
    "plt.plot(range(1, epoch+1), test_SGD_errList, '--', label=\"test_error\")\n",
    "plt.legend()\n",
    "\n",
    "plt.figure()\n",
    "plt.title(\"Accurancy : w/o PCA\")\n",
    "plt.plot(range(1, epoch+1), train_SGD_accList, label=\"train_acc\")\n",
    "plt.plot(range(1, epoch+1), test_SGD_accList, '--', label=\"test_acc\")\n",
    "plt.legend()\n",
    "\n",
    "\n",
    "print('╔════════════════════════╗')\n",
    "print('║ classification result  ║')\n",
    "print('╚════════════════════════╝')\n",
    "print ('TYPE : mini SGD ')\n",
    "print ('w/o PCA ')\n",
    "print ('Training accurancy :', train_accList[100])\n",
    "print ('Test accurancy     :', test_accList[100])   \n",
    "\n",
    "\n"
   ]
  },
  {
   "cell_type": "markdown",
   "metadata": {},
   "source": [
    "### make PCA"
   ]
  },
  {
   "cell_type": "code",
   "execution_count": null,
   "metadata": {},
   "outputs": [],
   "source": [
    "def make_PCA(x, d)\n",
    "    x = x.T\n",
    "    mean_ = np.mean(x, axis=0)\n",
    "    U, S, V = np.linalg.svd(x, full_matrices=False)\n",
    "    ud = U[:, :d]\n",
    "    Ud = ud*S[:d]\n",
    "    Vd = V[:d]\n",
    "    explaned_variance_ = (S**2)/ (160-1)\n",
    "    explaned_variance_ = explaned_variance_[:d]\n",
    "    Img = np.dat(Ud, Vd) + mean_\n",
    "    \n",
    "    return Img.T, Ud.T"
   ]
  }
 ],
 "metadata": {
  "kernelspec": {
   "display_name": "Python 3",
   "language": "python",
   "name": "python3"
  },
  "language_info": {
   "codemirror_mode": {
    "name": "ipython",
    "version": 3
   },
   "file_extension": ".py",
   "mimetype": "text/x-python",
   "name": "python",
   "nbconvert_exporter": "python",
   "pygments_lexer": "ipython3",
   "version": "3.6.9"
  }
 },
 "nbformat": 4,
 "nbformat_minor": 4
}
